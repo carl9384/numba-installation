{
 "cells": [
  {
   "cell_type": "markdown",
   "metadata": {
    "slideshow": {
     "slide_type": "slide"
    }
   },
   "source": [
    "# Which Python?\n",
    "\n",
    "cnegro@emgdev:~$ ls -lah \\`***which python***\\`\n",
    "\n",
    "lrwxrwxrwx 1 root root 9 Jan 19  2017 /usr/bin/python -> python2.7\n",
    "\n",
    "cnegro@emgdev:~$ \n",
    "\n",
    "---\n",
    "\n",
    "cnegro@emgdev:~$ \\`***which python3***\\`\n",
    "\n",
    "/usr/bin/python3\n",
    "\n",
    "cnegro@emgdev:~$ \n",
    "\n",
    "---"
   ]
  },
  {
   "cell_type": "markdown",
   "metadata": {
    "slideshow": {
     "slide_type": "slide"
    }
   },
   "source": [
    "# Which pip?\n",
    "\n",
    "cnegro@emgdev:~$ ***pip --version***\n",
    "    \n",
    "pip 9.0.1 from /usr/local/lib/python2.7/dist-packages (***python 2.7***)\n",
    "\n",
    "cnegro@emgdev:~$ \n"
   ]
  },
  {
   "cell_type": "markdown",
   "metadata": {
    "slideshow": {
     "slide_type": "slide"
    }
   },
   "source": [
    "## Is Cuda installed?\n",
    "\n",
    "cnegro@emgdev:~$ ****nvcc --version****\n",
    "\n",
    "nvcc: NVIDIA (R) Cuda compiler driver\n",
    "\n",
    "Copyright (c) 2005-2016 NVIDIA Corporation\n",
    "\n",
    "Built on Tue_Jan_10_13:22:03_CST_2017\n",
    "\n",
    "Cuda compilation tools, release 8.0, V8.0.61\n",
    "\n",
    "cnegro@emgdev:~$ \n",
    "\n",
    "\n",
    "## If not:\n",
    "\n",
    "https://developer.nvidia.com/cuda-downloads\n",
    "\n",
    "### Make sure you install the right version! Check OS and processor architecture.\n",
    "\n",
    "---"
   ]
  },
  {
   "cell_type": "markdown",
   "metadata": {
    "slideshow": {
     "slide_type": "slide"
    }
   },
   "source": [
    "## Install Anaconda\n",
    "\n",
    "https://www.anaconda.com/download/#macos\n",
    "\n",
    "\n",
    "## Make sure anaconda is on the path\n",
    "\n",
    "cnegro@emgdev:~/workspace\\$ echo $PATH\n",
    "\n",
    "/usr/local/cuda/bin:/home/cnegro/src/relion/build/bin:***/home/cnegro/anaconda3/bin***:\n",
    "/usr/local/cuda/bin:/home/cnegro/src/relion/build/bin:\n",
    "/home/cnegro/bin:/home/cnegro/.local/bin:/usr/local/cuda/bin:\n",
    "/home/cnegro/src/relion/build/bin:/usr/local/sbin:/usr/local/bin:\n",
    "/usr/sbin:/usr/bin:/sbin:/bin:/usr/games:/usr/local/games:/snap/bin"
   ]
  },
  {
   "cell_type": "markdown",
   "metadata": {
    "slideshow": {
     "slide_type": "slide"
    }
   },
   "source": [
    "## create a conda environment \n",
    "\n",
    "cnegro@emgdev:~/workspace$ ***conda create -n testenv2***\n",
    "\n",
    "Fetching package metadata .........\n",
    "\n",
    "Solving package specifications: \n",
    "\n",
    "Package plan for installation in environment /home/cnegro/anaconda3/envs/testenv2:\n",
    "\n",
    "Proceed ([y]/n)?  \n",
    "\n",
    "To activate this environment, use:\n",
    " \n",
    "source activate testenv2\n",
    "\n",
    "To deactivate an active environment, use:\n",
    "\n",
    "source deactivate\n",
    "\n",
    "\n",
    "---\n"
   ]
  },
  {
   "cell_type": "markdown",
   "metadata": {
    "slideshow": {
     "slide_type": "slide"
    }
   },
   "source": [
    "## Activate Conda environment\n",
    "\n",
    "cnegro@emgdev:~/workspace$ ***source activate testenv2***\n",
    "    \n",
    "(testenv2) cnegro@emgdev:~/workspace$ \n",
    "\n",
    "\n",
    "\n",
    "## The (testenv2) means you are inside the virtual environment.\n",
    "\n",
    "---"
   ]
  },
  {
   "cell_type": "markdown",
   "metadata": {
    "slideshow": {
     "slide_type": "slide"
    }
   },
   "source": [
    "# Which pip?\n",
    "\n",
    "cnegro@emgdev:~/workspace$ ***source testenv/bin/activate***\n",
    "\n",
    "(testenv) cnegro@emgdev:~/workspace$ ***pip --version***\n",
    "\n",
    "pip 9.0.1 from /home/cnegro/workspace/testenv/lib/python3.5/site-packages (***python 3.5***)\n",
    "\n",
    "(testenv) cnegro@emgdev:~/workspace$ \n",
    "\n",
    "---\n"
   ]
  },
  {
   "cell_type": "markdown",
   "metadata": {
    "slideshow": {
     "slide_type": "slide"
    }
   },
   "source": [
    "## Install Numba\n",
    "\n",
    "(testenv2) cnegro@emgdev:~/workspace$ conda install numba\n",
    "    \n",
    "Fetching package metadata .........\n",
    "\n",
    "Solving package specifications: .\n",
    "\n",
    "Package plan for installation in environment /home/cnegro/anaconda3/envs/testenv2:\n",
    "\n",
    "The following NEW packages will be INSTALLED:\n",
    "\n",
    "    certifi:    2016.2.28-py36_0   \n",
    "    llvmlite:   0.20.0-py36_0          \n",
    "    mkl:        2017.0.3-0            \n",
    "    numba:      0.35.0-np113py36_0        \n",
    "    numpy:      1.13.1-py36_0           \n",
    "    openssl:    1.0.2l-0              \n",
    "    pip:        9.0.1-py36_1          \n",
    "    python:     3.6.2-0          \n",
    "    readline:   6.2-2          \n",
    "    setuptools: 36.4.0-py36_1          \n",
    "    sqlite:     3.13.0-0          \n",
    "    tk:         8.5.18-0          \n",
    "    wheel:      0.29.0-py36_0           \n",
    "    xz:         5.2.3-0              \n",
    "    zlib:       1.2.11-0          \n",
    "\n",
    "Proceed ([y]/n)? \n",
    "\n",
    "mkl-2017.0.3-0 100% |################################################################################################################################| Time: 0:00:01  82.68 MB/s\n",
    "openssl-1.0.2l 100% |################################################################################################################################| Time: 0:00:00  56.64 MB/s\n",
    "readline-6.2-2 100% |################################################################################################################################| Time: 0:00:00  59.19 MB/s\n",
    "sqlite-3.13.0- 100% |################################################################################################################################| Time: 0:00:00  57.85 MB/s\n",
    "tk-8.5.18-0.ta 100% |################################################################################################################################| Time: 0:00:00  61.12 MB/s\n",
    "xz-5.2.3-0.tar 100% |################################################################################################################################| Time: 0:00:00  39.31 MB/s\n",
    "zlib-1.2.11-0. 100% |################################################################################################################################| Time: 0:00:00  53.86 MB/s\n",
    "python-3.6.2-0 100% |################################################################################################################################| Time: 0:00:00  55.96 MB/s\n",
    "certifi-2016.2 100% |################################################################################################################################| Time: 0:00:00  35.88 MB/s\n",
    "llvmlite-0.20. 100% |################################################################################################################################| Time: 0:00:00  55.22 MB/s\n",
    "numpy-1.13.1-p 100% |################################################################################################################################| Time: 0:00:00  55.10 MB/s\n",
    "wheel-0.29.0-p 100% |################################################################################################################################| Time: 0:00:00  27.69 MB/s\n",
    "numba-0.35.0-n 100% |################################################################################################################################| Time: 0:00:00  34.33 MB/s\n",
    "setuptools-36. 100% |################################################################################################################################| Time: 0:00:00  41.25 MB/s\n",
    "pip-9.0.1-py36 100% |################################################################################################################################| Time: 0:00:00  45.93 MB/s\n",
    "(testenv2) cnegro@emgdev:~/workspace$ \n",
    "\n"
   ]
  },
  {
   "cell_type": "markdown",
   "metadata": {
    "slideshow": {
     "slide_type": "slide"
    }
   },
   "source": [
    "## Check that Numba works\n",
    "\n",
    "(testenv2) cnegro@emgdev:~/workspace$ python<br>\n",
    "Python 3.6.2 |Continuum Analytics, Inc.| (default, Jul 20 2017, 13:51:32)<br>\n",
    "[GCC 4.4.7 20120313 (Red Hat 4.4.7-1)] on linux<br>\n",
    "Type \"help\", \"copyright\", \"credits\" or \"license\" for more information.<br>\n",
    "\\>\\>\\> import numba<br>\n",
    "\\>\\>\\> numba<br>\n",
    "<\\module 'numba' from '/home/cnegro/anaconda3/envs/testenv2/lib/python3.6/site-packages/numba/__init__.py'><br>\n",
    "\\>\\>\\> \n"
   ]
  },
  {
   "cell_type": "markdown",
   "metadata": {
    "slideshow": {
     "slide_type": "slide"
    }
   },
   "source": [
    "## Success"
   ]
  }
 ],
 "metadata": {
  "celltoolbar": "Slideshow",
  "kernelspec": {
   "display_name": "Python [default]",
   "language": "python",
   "name": "python3"
  },
  "language_info": {
   "codemirror_mode": {
    "name": "ipython",
    "version": 3
   },
   "file_extension": ".py",
   "mimetype": "text/x-python",
   "name": "python",
   "nbconvert_exporter": "python",
   "pygments_lexer": "ipython3",
   "version": "3.5.3"
  }
 },
 "nbformat": 4,
 "nbformat_minor": 2
}
