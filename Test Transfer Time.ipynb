{
 "cells": [
  {
   "cell_type": "code",
   "execution_count": 1,
   "metadata": {
    "collapsed": true
   },
   "outputs": [],
   "source": [
    "import test"
   ]
  },
  {
   "cell_type": "code",
   "execution_count": 2,
   "metadata": {},
   "outputs": [
    {
     "name": "stdout",
     "output_type": "stream",
     "text": [
      "Total time to transfer to gpu for 100x100 matrix is: \n",
      "\t\t\t\t\t\t 0.312274694442749\n",
      "\n"
     ]
    }
   ],
   "source": [
    "test.run_transfer_test()"
   ]
  },
  {
   "cell_type": "code",
   "execution_count": 3,
   "metadata": {},
   "outputs": [
    {
     "name": "stdout",
     "output_type": "stream",
     "text": [
      "Total time to transfer to gpu for 1000x1000 matrix is: \n",
      "\t\t\t\t\t\t 0.0012392997741699219\n",
      "\n",
      "Total time to transfer to gpu for 1000x10000 matrix is: \n",
      "\t\t\t\t\t\t 0.014526844024658203\n",
      "\n",
      "Total time to transfer to gpu for 1000x100000 matrix is: \n",
      "\t\t\t\t\t\t 0.08753204345703125\n",
      "\n",
      "Total time to transfer to gpu for 1000x1000000 matrix is: \n",
      "\t\t\t\t\t\t 0.8672125339508057\n",
      "\n"
     ]
    }
   ],
   "source": [
    "test.run_transfer_test(1000,1000)\n",
    "test.run_transfer_test(1000,10000)\n",
    "test.run_transfer_test(1000,100000)\n",
    "test.run_transfer_test(1000,1000000)"
   ]
  },
  {
   "cell_type": "code",
   "execution_count": 4,
   "metadata": {},
   "outputs": [
    {
     "name": "stdout",
     "output_type": "stream",
     "text": [
      "Shape of A is  (100, 10000)\n",
      "Time to copy to device is  0.006591320037841797\n",
      "Time to compute on GPU and copy to host is  0.1598212718963623\n",
      "\n",
      "Total time to compute on GPU is  0.166961669921875\n",
      "\n",
      "Total time to compute on CPU is  0.0007455348968505859\n",
      "\n",
      "**********************************************************\n",
      "Shape of A is  (100, 10000)\n",
      "Time to copy to device is  0.0013623237609863281\n",
      "Time to compute on GPU and copy to host is  0.011687040328979492\n",
      "\n",
      "Total time to compute on GPU is  0.013392448425292969\n",
      "\n",
      "Total time to compute on CPU is  0.004542827606201172\n",
      "\n",
      "**********************************************************\n",
      "Shape of A is  (100, 10000)\n",
      "Time to copy to device is  0.0013206005096435547\n",
      "Time to compute on GPU and copy to host is  0.11380529403686523\n",
      "\n",
      "Total time to compute on GPU is  0.11547994613647461\n",
      "\n",
      "Total time to compute on CPU is  0.04504656791687012\n",
      "\n",
      "**********************************************************\n"
     ]
    }
   ],
   "source": [
    "test.run_fast_sum(100,10000,runntimes=1)\n",
    "test.run_fast_sum(100,10000,runntimes=10)\n",
    "test.run_fast_sum(100,10000,runntimes=100)"
   ]
  },
  {
   "cell_type": "code",
   "execution_count": null,
   "metadata": {
    "collapsed": true
   },
   "outputs": [],
   "source": []
  }
 ],
 "metadata": {
  "kernelspec": {
   "display_name": "Python [default]",
   "language": "python",
   "name": "python3"
  },
  "language_info": {
   "codemirror_mode": {
    "name": "ipython",
    "version": 3
   },
   "file_extension": ".py",
   "mimetype": "text/x-python",
   "name": "python",
   "nbconvert_exporter": "python",
   "pygments_lexer": "ipython3",
   "version": "3.5.3"
  }
 },
 "nbformat": 4,
 "nbformat_minor": 2
}
